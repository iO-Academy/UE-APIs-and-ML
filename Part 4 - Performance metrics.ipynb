{
 "cells": [
  {
   "cell_type": "markdown",
   "id": "solar-friendly",
   "metadata": {},
   "source": [
    "### Machine learning - performance metrics"
   ]
  },
  {
   "cell_type": "code",
   "execution_count": null,
   "id": "tracked-might",
   "metadata": {},
   "outputs": [],
   "source": [
    "# Load your cleaned version of the titanic dataset or this version\n",
    "import numpy as np\n",
    "import pandas as pd\n",
    "from sklearn.model_selection import train_test_split\n",
    "\n",
    "df = pd.read_csv('datasets/titanic.csv')\n",
    "df.Fare.fillna(df.Fare.median(), inplace=True)\n",
    "X = np.array(df.Fare).reshape(-1,1)#(1, 2)\n",
    "y = df.Survived\n",
    "X_train, X_test, y_train, y_test = train_test_split(X, y, test_size=0.2, random_state=32)"
   ]
  },
  {
   "cell_type": "code",
   "execution_count": null,
   "id": "metric-ocean",
   "metadata": {},
   "outputs": [],
   "source": [
    "'''\n",
    "Calculating accuracy\n",
    "'''\n",
    "from sklearn.metrics import accuracy_score\n",
    "from sklearn.linear_model import LogisticRegression\n",
    "\n",
    "model = LogisticRegression()\n",
    "model.fit(X_train, y_train)\n",
    "\n",
    "train_acc = accuracy_score(y_train, model.predict(X_train))\n",
    "test_acc = accuracy_score(y_test, model.predict(X_test))\n",
    "print(train_acc, test_acc)"
   ]
  },
  {
   "cell_type": "code",
   "execution_count": null,
   "id": "polish-blowing",
   "metadata": {},
   "outputs": [],
   "source": [
    "# Practise this on the heart disease dataset below"
   ]
  },
  {
   "cell_type": "code",
   "execution_count": null,
   "id": "surface-verse",
   "metadata": {},
   "outputs": [],
   "source": [
    "file_path = 'datasets/heart.csv'"
   ]
  },
  {
   "cell_type": "code",
   "execution_count": null,
   "id": "occupied-constitution",
   "metadata": {},
   "outputs": [],
   "source": []
  },
  {
   "cell_type": "markdown",
   "id": "vocational-turtle",
   "metadata": {},
   "source": [
    "***"
   ]
  },
  {
   "cell_type": "code",
   "execution_count": null,
   "id": "engaging-reception",
   "metadata": {},
   "outputs": [],
   "source": [
    "'''\n",
    "Creating a confusion matrix\n",
    "\n",
    "'''\n",
    "\n",
    "from sklearn.metrics import confusion_matrix\n",
    "\n",
    "cm = confusion_matrix(y_test, model.predict(X_test))\n",
    "\n",
    "'''\n",
    "\n",
    "tn | fp\n",
    "-------\n",
    "fn | tp\n",
    "\n",
    "'''"
   ]
  },
  {
   "cell_type": "code",
   "execution_count": null,
   "id": "assumed-horse",
   "metadata": {},
   "outputs": [],
   "source": [
    "print(cm)"
   ]
  },
  {
   "cell_type": "markdown",
   "id": "substantial-inspector",
   "metadata": {},
   "source": [
    "#### Singling out examples of incorrectly classified datapoints"
   ]
  },
  {
   "cell_type": "code",
   "execution_count": null,
   "id": "typical-territory",
   "metadata": {},
   "outputs": [],
   "source": [
    "'''\n",
    "\n",
    "- Get a list of y_test\n",
    "- get a list of y predictions\n",
    "- get indexes where they aren't the same\n",
    "    - for those where y_test is 0 = false ?\n",
    "    - for those where x_test is 1 = false ?\n",
    "    \n",
    "- output the full rows for these indexes\n",
    "\n",
    "'''"
   ]
  },
  {
   "cell_type": "code",
   "execution_count": null,
   "id": "bizarre-dinner",
   "metadata": {},
   "outputs": [],
   "source": [
    "# Once you have these rows, consider applying some visualisations to see if there are any interesting patterns\n",
    "# in which cases are being mis-classified"
   ]
  },
  {
   "cell_type": "code",
   "execution_count": null,
   "id": "oriented-block",
   "metadata": {},
   "outputs": [],
   "source": []
  },
  {
   "cell_type": "markdown",
   "id": "iraqi-vector",
   "metadata": {},
   "source": [
    "***"
   ]
  },
  {
   "cell_type": "code",
   "execution_count": null,
   "id": "cutting-introduction",
   "metadata": {},
   "outputs": [],
   "source": [
    "'''\n",
    "Performance metrics\n",
    "\n",
    "- classification report (\n",
    "- Precision\n",
    "- Recall\n",
    "- F1\n",
    ")\n",
    "\n",
    "\n",
    "'''"
   ]
  },
  {
   "cell_type": "code",
   "execution_count": null,
   "id": "through-chaos",
   "metadata": {},
   "outputs": [],
   "source": [
    "from sklearn.metrics import classification_report"
   ]
  },
  {
   "cell_type": "code",
   "execution_count": null,
   "id": "latter-document",
   "metadata": {},
   "outputs": [],
   "source": [
    "print(classification_report(y_test, model.predict(X_test)))"
   ]
  },
  {
   "cell_type": "code",
   "execution_count": null,
   "id": "smart-denver",
   "metadata": {},
   "outputs": [],
   "source": [
    "test_acc = accuracy_score(y_test, model.predict(X_test))\n",
    "print(test_acc)"
   ]
  },
  {
   "cell_type": "markdown",
   "id": "handed-wichita",
   "metadata": {},
   "source": [
    "***"
   ]
  },
  {
   "cell_type": "code",
   "execution_count": null,
   "id": "blank-encoding",
   "metadata": {},
   "outputs": [],
   "source": [
    "'''\n",
    "- ROC score and visualisation\n",
    "'''"
   ]
  },
  {
   "cell_type": "code",
   "execution_count": null,
   "id": "greenhouse-depression",
   "metadata": {},
   "outputs": [],
   "source": [
    "from sklearn import metrics\n",
    "from sklearn.metrics import roc_auc_score\n",
    "import matplotlib.pyplot as plt\n",
    "#ROC uses predict_proba rather than predict\n",
    "\n",
    "logistic_roc_train = roc_auc_score(y_train, model.predict_proba(X_train)[:, 1])\n",
    "logistic_roc_test = roc_auc_score(y_test, model.predict_proba(X_test)[:, 1])\n",
    "print(\"Train plot: \")\n",
    "metrics.plot_roc_curve(model, X_train, y_train)  \n",
    "plt.show()  \n",
    "print(\"Test plot: \")\n",
    "metrics.plot_roc_curve(model, X_test, y_test)  \n",
    "plt.show()\n",
    "print(\"ROC AUC score log train: \",logistic_roc_train)\n",
    "print(\"ROC AUC score log test: \",logistic_roc_test)"
   ]
  },
  {
   "cell_type": "code",
   "execution_count": null,
   "id": "sonic-frank",
   "metadata": {},
   "outputs": [],
   "source": [
    "'''\n",
    "Output all performance metrics for your titanic model\n",
    "- Accuracy\n",
    "- Precision\n",
    "- Recall\n",
    "- F1 score\n",
    "- ROC AUC (including graph)\n",
    "\n",
    "Using markdown write a line for each of these metrics describing what they are telling us about our model performance\n",
    "\n",
    "Bonus: train three different models using a different set of features. Find a way to plot all three ROC curves on the\n",
    "same plot.\n",
    "'''"
   ]
  },
  {
   "cell_type": "code",
   "execution_count": null,
   "id": "every-ribbon",
   "metadata": {},
   "outputs": [],
   "source": []
  },
  {
   "cell_type": "markdown",
   "id": "nasty-scoop",
   "metadata": {},
   "source": [
    "***"
   ]
  }
 ],
 "metadata": {
  "kernelspec": {
   "display_name": "Python 3",
   "language": "python",
   "name": "python3"
  },
  "language_info": {
   "codemirror_mode": {
    "name": "ipython",
    "version": 3
   },
   "file_extension": ".py",
   "mimetype": "text/x-python",
   "name": "python",
   "nbconvert_exporter": "python",
   "pygments_lexer": "ipython3",
   "version": "3.7.9"
  }
 },
 "nbformat": 4,
 "nbformat_minor": 5
}
