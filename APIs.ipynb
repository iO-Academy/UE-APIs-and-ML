{
 "cells": [
  {
   "cell_type": "markdown",
   "id": "4d4a98ee-0ab3-4217-86dc-0926ae0db6f5",
   "metadata": {},
   "source": [
    "# Interacting with an API"
   ]
  },
  {
   "cell_type": "code",
   "execution_count": 8,
   "id": "02894f1e-5e3e-41cf-837e-1f68b525602c",
   "metadata": {},
   "outputs": [
    {
     "name": "stdout",
     "output_type": "stream",
     "text": [
      "Name: Darth Vader\n",
      "Height: 202\n",
      "DOB: 41.9BBY\n"
     ]
    }
   ],
   "source": [
    "import requests\n",
    "r = requests.get('https://swapi.dev/api/people/4/')\n",
    "person = r.json()\n",
    "print('Name: ' + person['name'])\n",
    "print('Height: ' + person['height'])\n",
    "print('DOB: ' + person['birth_year'])"
   ]
  },
  {
   "cell_type": "code",
   "execution_count": 9,
   "id": "fd0ec4f3-4569-43cb-bacf-16bda81ca7ff",
   "metadata": {},
   "outputs": [
    {
     "name": "stdout",
     "output_type": "stream",
     "text": [
      "{'message': 'Invalid API key. Go to https://docs.rapidapi.com/docs/keys for more info.'}\n"
     ]
    }
   ],
   "source": [
    "import requests\n",
    "\n",
    "querystring = {\"to\":\"SEK\",\"from\":\"USD\",\"from_amount\":\"1\"}\n",
    "\n",
    "response = requests.get(\"https://currencyconverter.p.rapidapi.com/availablecurrencies\", params=querystring)\n",
    "\n",
    "print(response.json())"
   ]
  },
  {
   "cell_type": "code",
   "execution_count": null,
   "id": "27457c23-bbda-495b-8cf1-a74d3aafb6e9",
   "metadata": {},
   "outputs": [],
   "source": []
  }
 ],
 "metadata": {
  "kernelspec": {
   "display_name": "Python 3 (ipykernel)",
   "language": "python",
   "name": "python3"
  },
  "language_info": {
   "codemirror_mode": {
    "name": "ipython",
    "version": 3
   },
   "file_extension": ".py",
   "mimetype": "text/x-python",
   "name": "python",
   "nbconvert_exporter": "python",
   "pygments_lexer": "ipython3",
   "version": "3.12.1"
  }
 },
 "nbformat": 4,
 "nbformat_minor": 5
}
