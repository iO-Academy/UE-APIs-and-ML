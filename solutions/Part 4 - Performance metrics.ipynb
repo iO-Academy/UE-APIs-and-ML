{
 "cells": [
  {
   "cell_type": "markdown",
   "id": "solar-friendly",
   "metadata": {},
   "source": [
    "### Machine learning - performance metrics"
   ]
  },
  {
   "cell_type": "code",
   "execution_count": 1,
   "id": "tracked-might",
   "metadata": {},
   "outputs": [
    {
     "name": "stderr",
     "output_type": "stream",
     "text": [
      "C:\\Users\\rball\\AppData\\Local\\Temp\\ipykernel_9204\\1560876868.py:7: FutureWarning: A value is trying to be set on a copy of a DataFrame or Series through chained assignment using an inplace method.\n",
      "The behavior will change in pandas 3.0. This inplace method will never work because the intermediate object on which we are setting values always behaves as a copy.\n",
      "\n",
      "For example, when doing 'df[col].method(value, inplace=True)', try using 'df.method({col: value}, inplace=True)' or df[col] = df[col].method(value) instead, to perform the operation inplace on the original object.\n",
      "\n",
      "\n",
      "  df.Fare.fillna(df.Fare.median(), inplace=True)\n"
     ]
    }
   ],
   "source": [
    "# Load your cleaned version of the titanic dataset or this version\n",
    "import numpy as np\n",
    "import pandas as pd\n",
    "from sklearn.model_selection import train_test_split\n",
    "\n",
    "df = pd.read_csv('datasets/titanic.csv')\n",
    "df.Fare.fillna(df.Fare.median(), inplace=True)\n",
    "X = np.array(df.Fare).reshape(-1,1)\n",
    "y = df.Survived\n",
    "\n",
    "X_train, X_test, y_train, y_test = train_test_split(X, y, test_size=0.2, random_state=32)"
   ]
  },
  {
   "cell_type": "code",
   "execution_count": 2,
   "id": "metric-ocean",
   "metadata": {},
   "outputs": [
    {
     "name": "stdout",
     "output_type": "stream",
     "text": [
      "0.6629213483146067 0.6703910614525139\n"
     ]
    }
   ],
   "source": [
    "'''\n",
    "Calculating accuracy\n",
    "'''\n",
    "from sklearn.metrics import accuracy_score\n",
    "from sklearn.linear_model import LogisticRegression\n",
    "\n",
    "model = LogisticRegression()\n",
    "model.fit(X_train, y_train)\n",
    "\n",
    "train_acc = accuracy_score(y_train, model.predict(X_train))\n",
    "test_acc = accuracy_score(y_test, model.predict(X_test))\n",
    "print(train_acc, test_acc)"
   ]
  },
  {
   "cell_type": "code",
   "execution_count": null,
   "id": "polish-blowing",
   "metadata": {},
   "outputs": [],
   "source": [
    "# Practise this on the heart disease dataset below"
   ]
  },
  {
   "cell_type": "code",
   "execution_count": null,
   "id": "surface-verse",
   "metadata": {},
   "outputs": [],
   "source": [
    "file_path = 'datasets/heart.csv'"
   ]
  },
  {
   "cell_type": "code",
   "execution_count": null,
   "id": "occupied-constitution",
   "metadata": {},
   "outputs": [],
   "source": []
  },
  {
   "cell_type": "markdown",
   "id": "vocational-turtle",
   "metadata": {},
   "source": [
    "***"
   ]
  },
  {
   "cell_type": "code",
   "execution_count": 5,
   "id": "engaging-reception",
   "metadata": {},
   "outputs": [
    {
     "data": {
      "text/plain": [
       "'\\n\\ntn | fp\\n-------\\nfn | tp\\n\\n'"
      ]
     },
     "execution_count": 5,
     "metadata": {},
     "output_type": "execute_result"
    }
   ],
   "source": [
    "'''\n",
    "Creating a confusion matrix\n",
    "\n",
    "'''\n",
    "\n",
    "from sklearn.metrics import confusion_matrix, ConfusionMatrixDisplay\n",
    "\n",
    "cm = confusion_matrix(y_test, model.predict(X_test))\n",
    "\n",
    "'''\n",
    "\n",
    "tn | fp\n",
    "-------\n",
    "fn | tp\n",
    "\n",
    "'''"
   ]
  },
  {
   "cell_type": "code",
   "execution_count": 4,
   "id": "assumed-horse",
   "metadata": {},
   "outputs": [
    {
     "name": "stdout",
     "output_type": "stream",
     "text": [
      "[[101   7]\n",
      " [ 52  19]]\n"
     ]
    }
   ],
   "source": [
    "print(cm)"
   ]
  },
  {
   "cell_type": "code",
   "execution_count": 6,
   "id": "35b32041-85cf-42a4-818e-7d0ecc073a1f",
   "metadata": {},
   "outputs": [
    {
     "ename": "NameError",
     "evalue": "name 'plt' is not defined",
     "output_type": "error",
     "traceback": [
      "\u001b[1;31m---------------------------------------------------------------------------\u001b[0m",
      "\u001b[1;31mNameError\u001b[0m                                 Traceback (most recent call last)",
      "Cell \u001b[1;32mIn[6], line 4\u001b[0m\n\u001b[0;32m      2\u001b[0m disp \u001b[38;5;241m=\u001b[39m ConfusionMatrixDisplay(confusion_matrix\u001b[38;5;241m=\u001b[39mcm, display_labels\u001b[38;5;241m=\u001b[39mmodel\u001b[38;5;241m.\u001b[39mclasses_)\n\u001b[0;32m      3\u001b[0m disp\u001b[38;5;241m.\u001b[39mplot()\n\u001b[1;32m----> 4\u001b[0m \u001b[43mplt\u001b[49m\u001b[38;5;241m.\u001b[39mshow()\n",
      "\u001b[1;31mNameError\u001b[0m: name 'plt' is not defined"
     ]
    },
    {
     "data": {
      "image/png": "[encoded data removed]",
      "text/plain": [
       "<Figure size 640x480 with 2 Axes>"
      ]
     },
     "metadata": {},
     "output_type": "display_data"
    }
   ],
   "source": [
    "cm = confusion_matrix(y_test, model.predict(X_test), labels=model.classes_)\n",
    "disp = ConfusionMatrixDisplay(confusion_matrix=cm, display_labels=model.classes_)\n",
    "disp.plot()\n",
    "plt.show()"
   ]
  },
  {
   "cell_type": "markdown",
   "id": "substantial-inspector",
   "metadata": {},
   "source": [
    "#### Singling out examples of incorrectly classified datapoints"
   ]
  },
  {
   "cell_type": "code",
   "execution_count": null,
   "id": "typical-territory",
   "metadata": {},
   "outputs": [],
   "source": [
    "'''\n",
    "\n",
    "- Get a list of y_test\n",
    "- get a list of y predictions\n",
    "- get indexes where they aren't the same\n",
    "    - for those where y_test is 0 = false ?\n",
    "    - for those where x_test is 1 = false ?\n",
    "    \n",
    "- output the full rows for these indexes\n",
    "\n",
    "'''"
   ]
  },
  {
   "cell_type": "code",
   "execution_count": null,
   "id": "bizarre-dinner",
   "metadata": {},
   "outputs": [],
   "source": [
    "# Once you have these rows, consider applying some visualisations to see if there are any interesting patterns\n",
    "# in which cases are being mis-classified"
   ]
  },
  {
   "cell_type": "code",
   "execution_count": null,
   "id": "oriented-block",
   "metadata": {},
   "outputs": [],
   "source": []
  },
  {
   "cell_type": "markdown",
   "id": "iraqi-vector",
   "metadata": {},
   "source": [
    "***"
   ]
  },
  {
   "cell_type": "code",
   "execution_count": null,
   "id": "cutting-introduction",
   "metadata": {},
   "outputs": [],
   "source": [
    "'''\n",
    "Performance metrics\n",
    "\n",
    "- classification report (\n",
    "- Precision\n",
    "- Recall\n",
    "- F1\n",
    ")\n",
    "\n",
    "\n",
    "'''"
   ]
  },
  {
   "cell_type": "code",
   "execution_count": 7,
   "id": "through-chaos",
   "metadata": {},
   "outputs": [],
   "source": [
    "from sklearn.metrics import classification_report"
   ]
  },
  {
   "cell_type": "code",
   "execution_count": 8,
   "id": "latter-document",
   "metadata": {},
   "outputs": [
    {
     "name": "stdout",
     "output_type": "stream",
     "text": [
      "              precision    recall  f1-score   support\n",
      "\n",
      "           0       0.66      0.94      0.77       108\n",
      "           1       0.73      0.27      0.39        71\n",
      "\n",
      "    accuracy                           0.67       179\n",
      "   macro avg       0.70      0.60      0.58       179\n",
      "weighted avg       0.69      0.67      0.62       179\n",
      "\n"
     ]
    }
   ],
   "source": [
    "print(classification_report(y_test, model.predict(X_test)))"
   ]
  },
  {
   "cell_type": "code",
   "execution_count": null,
   "id": "smart-denver",
   "metadata": {},
   "outputs": [],
   "source": [
    "test_acc = accuracy_score(y_test, model.predict(X_test))\n",
    "print(test_acc)"
   ]
  },
  {
   "cell_type": "code",
   "execution_count": 9,
   "id": "185592be-c193-4301-8816-0a91b8fc2391",
   "metadata": {},
   "outputs": [
    {
     "name": "stdout",
     "output_type": "stream",
     "text": [
      "0.3917525773195876\n",
      "0.7307692307692307\n",
      "0.2676056338028169\n"
     ]
    }
   ],
   "source": [
    "from sklearn.metrics import f1_score, precision_score, recall_score\n",
    "\n",
    "print(f1_score(y_test, model.predict(X_test)))\n",
    "print(precision_score(y_test, model.predict(X_test)))\n",
    "print(recall_score(y_test, model.predict(X_test)))"
   ]
  },
  {
   "cell_type": "code",
   "execution_count": null,
   "id": "c59ed3aa-7870-4cb0-aa1e-631889688752",
   "metadata": {},
   "outputs": [],
   "source": []
  },
  {
   "cell_type": "code",
   "execution_count": null,
   "id": "9c91f0c3-cf55-4c74-9602-af37677efcee",
   "metadata": {},
   "outputs": [],
   "source": []
  },
  {
   "cell_type": "code",
   "execution_count": null,
   "id": "ee8aaca1-daeb-4124-a253-57219fa2b240",
   "metadata": {},
   "outputs": [],
   "source": []
  },
  {
   "cell_type": "code",
   "execution_count": null,
   "id": "f2bfa27d-3123-41e7-bab0-d3f35da39080",
   "metadata": {},
   "outputs": [],
   "source": []
  },
  {
   "cell_type": "markdown",
   "id": "handed-wichita",
   "metadata": {},
   "source": [
    "***"
   ]
  },
  {
   "cell_type": "code",
   "execution_count": null,
   "id": "blank-encoding",
   "metadata": {},
   "outputs": [],
   "source": [
    "'''\n",
    "- ROC score and visualisation\n",
    "'''"
   ]
  },
  {
   "cell_type": "code",
   "execution_count": null,
   "id": "greenhouse-depression",
   "metadata": {},
   "outputs": [],
   "source": [
    "from sklearn import metrics\n",
    "from sklearn.metrics import roc_auc_score\n",
    "import matplotlib.pyplot as plt\n",
    "#ROC uses predict_proba rather than predict\n",
    "\n",
    "logistic_roc_train = roc_auc_score(y_train, model.predict_proba(X_train)[:, 1])\n",
    "logistic_roc_test = roc_auc_score(y_test, model.predict_proba(X_test)[:, 1])\n",
    "print(\"Train plot: \")\n",
    "metrics.plot_roc_curve(model, X_train, y_train)  \n",
    "plt.show()  \n",
    "print(\"Test plot: \")\n",
    "metrics.plot_roc_curve(model, X_test, y_test)  \n",
    "plt.show()\n",
    "print(\"ROC AUC score log train: \",logistic_roc_train)\n",
    "print(\"ROC AUC score log test: \",logistic_roc_test)"
   ]
  },
  {
   "cell_type": "code",
   "execution_count": null,
   "id": "sonic-frank",
   "metadata": {},
   "outputs": [],
   "source": [
    "'''\n",
    "Output all performance metrics for your titanic model\n",
    "- Accuracy\n",
    "- Precision\n",
    "- Recall\n",
    "- F1 score\n",
    "- ROC AUC (including graph)\n",
    "\n",
    "Using markdown write a line for each of these metrics describing what they are telling us about our model performance\n",
    "\n",
    "Bonus: train three different models using a different set of features. Find a way to plot all three ROC curves on the\n",
    "same plot.\n",
    "'''"
   ]
  },
  {
   "cell_type": "code",
   "execution_count": null,
   "id": "every-ribbon",
   "metadata": {},
   "outputs": [],
   "source": []
  },
  {
   "cell_type": "markdown",
   "id": "nasty-scoop",
   "metadata": {},
   "source": [
    "***"
   ]
  }
 ],
 "metadata": {
  "kernelspec": {
   "display_name": "Python 3 (ipykernel)",
   "language": "python",
   "name": "python3"
  },
  "language_info": {
   "codemirror_mode": {
    "name": "ipython",
    "version": 3
   },
   "file_extension": ".py",
   "mimetype": "text/x-python",
   "name": "python",
   "nbconvert_exporter": "python",
   "pygments_lexer": "ipython3",
   "version": "3.10.11"
  }
 },
 "nbformat": 4,
 "nbformat_minor": 5
}
