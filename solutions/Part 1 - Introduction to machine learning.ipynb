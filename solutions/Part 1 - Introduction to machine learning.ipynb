{
 "cells": [
  {
   "cell_type": "code",
   "execution_count": null,
   "id": "provincial-interval",
   "metadata": {},
   "outputs": [],
   "source": [
    "# scikit learn for linear regression"
   ]
  },
  {
   "cell_type": "code",
   "execution_count": 2,
   "id": "imposed-discussion",
   "metadata": {},
   "outputs": [
    {
     "name": "stdout",
     "output_type": "stream",
     "text": [
      "   Age  Salary\n",
      "0   20   22000\n",
      "1   35   30000\n",
      "2   38   32000\n",
      "3   42   45000\n",
      "4   43   42000\n",
      "5   54   48000\n",
      "6   55   50000\n",
      "7   58   52000\n",
      "8   60   48000\n",
      "9   62   70000\n"
     ]
    }
   ],
   "source": [
    "import numpy as np\n",
    "import pandas as pd\n",
    "import sklearn\n",
    "\n",
    "salaries = {\n",
    "        'Age': [20,35,38,42,43,54,55,58,60,62],\n",
    "        'Salary':[22000,30000,32000,45000,42000,48000,50000,52000,48000,70000]\n",
    "        }\n",
    "\n",
    "df = pd.DataFrame(salaries, columns = ['Age', 'Salary'])\n",
    "print(df)"
   ]
  },
  {
   "cell_type": "code",
   "execution_count": 3,
   "id": "martial-myanmar",
   "metadata": {},
   "outputs": [],
   "source": [
    "X = np.array(df['Age']).reshape(10, 1) # X for features\n",
    "y = df['Salary']                       # y for target variable"
   ]
  },
  {
   "cell_type": "code",
   "execution_count": 5,
   "id": "nonprofit-survivor",
   "metadata": {},
   "outputs": [
    {
     "name": "stdout",
     "output_type": "stream",
     "text": [
      "(10,)\n",
      "[[20]\n",
      " [35]\n",
      " [38]\n",
      " [42]\n",
      " [43]\n",
      " [54]\n",
      " [55]\n",
      " [58]\n",
      " [60]\n",
      " [62]]\n",
      "0    22000\n",
      "1    30000\n",
      "2    32000\n",
      "3    45000\n",
      "4    42000\n",
      "5    48000\n",
      "6    50000\n",
      "7    52000\n",
      "8    48000\n",
      "9    70000\n",
      "Name: Salary, dtype: int64\n"
     ]
    }
   ],
   "source": [
    "print(np.array(df['Age']).shape)\n",
    "print(X)\n",
    "print(y)"
   ]
  },
  {
   "cell_type": "code",
   "execution_count": 6,
   "id": "binary-grocery",
   "metadata": {},
   "outputs": [
    {
     "data": {
      "text/html": [
       "<style>#sk-container-id-1 {color: black;}#sk-container-id-1 pre{padding: 0;}#sk-container-id-1 div.sk-toggleable {background-color: white;}#sk-container-id-1 label.sk-toggleable__label {cursor: pointer;display: block;width: 100%;margin-bottom: 0;padding: 0.3em;box-sizing: border-box;text-align: center;}#sk-container-id-1 label.sk-toggleable__label-arrow:before {content: \"▸\";float: left;margin-right: 0.25em;color: #696969;}#sk-container-id-1 label.sk-toggleable__label-arrow:hover:before {color: black;}#sk-container-id-1 div.sk-estimator:hover label.sk-toggleable__label-arrow:before {color: black;}#sk-container-id-1 div.sk-toggleable__content {max-height: 0;max-width: 0;overflow: hidden;text-align: left;background-color: #f0f8ff;}#sk-container-id-1 div.sk-toggleable__content pre {margin: 0.2em;color: black;border-radius: 0.25em;background-color: #f0f8ff;}#sk-container-id-1 input.sk-toggleable__control:checked~div.sk-toggleable__content {max-height: 200px;max-width: 100%;overflow: auto;}#sk-container-id-1 input.sk-toggleable__control:checked~label.sk-toggleable__label-arrow:before {content: \"▾\";}#sk-container-id-1 div.sk-estimator input.sk-toggleable__control:checked~label.sk-toggleable__label {background-color: #d4ebff;}#sk-container-id-1 div.sk-label input.sk-toggleable__control:checked~label.sk-toggleable__label {background-color: #d4ebff;}#sk-container-id-1 input.sk-hidden--visually {border: 0;clip: rect(1px 1px 1px 1px);clip: rect(1px, 1px, 1px, 1px);height: 1px;margin: -1px;overflow: hidden;padding: 0;position: absolute;width: 1px;}#sk-container-id-1 div.sk-estimator {font-family: monospace;background-color: #f0f8ff;border: 1px dotted black;border-radius: 0.25em;box-sizing: border-box;margin-bottom: 0.5em;}#sk-container-id-1 div.sk-estimator:hover {background-color: #d4ebff;}#sk-container-id-1 div.sk-parallel-item::after {content: \"\";width: 100%;border-bottom: 1px solid gray;flex-grow: 1;}#sk-container-id-1 div.sk-label:hover label.sk-toggleable__label {background-color: #d4ebff;}#sk-container-id-1 div.sk-serial::before {content: \"\";position: absolute;border-left: 1px solid gray;box-sizing: border-box;top: 0;bottom: 0;left: 50%;z-index: 0;}#sk-container-id-1 div.sk-serial {display: flex;flex-direction: column;align-items: center;background-color: white;padding-right: 0.2em;padding-left: 0.2em;position: relative;}#sk-container-id-1 div.sk-item {position: relative;z-index: 1;}#sk-container-id-1 div.sk-parallel {display: flex;align-items: stretch;justify-content: center;background-color: white;position: relative;}#sk-container-id-1 div.sk-item::before, #sk-container-id-1 div.sk-parallel-item::before {content: \"\";position: absolute;border-left: 1px solid gray;box-sizing: border-box;top: 0;bottom: 0;left: 50%;z-index: -1;}#sk-container-id-1 div.sk-parallel-item {display: flex;flex-direction: column;z-index: 1;position: relative;background-color: white;}#sk-container-id-1 div.sk-parallel-item:first-child::after {align-self: flex-end;width: 50%;}#sk-container-id-1 div.sk-parallel-item:last-child::after {align-self: flex-start;width: 50%;}#sk-container-id-1 div.sk-parallel-item:only-child::after {width: 0;}#sk-container-id-1 div.sk-dashed-wrapped {border: 1px dashed gray;margin: 0 0.4em 0.5em 0.4em;box-sizing: border-box;padding-bottom: 0.4em;background-color: white;}#sk-container-id-1 div.sk-label label {font-family: monospace;font-weight: bold;display: inline-block;line-height: 1.2em;}#sk-container-id-1 div.sk-label-container {text-align: center;}#sk-container-id-1 div.sk-container {/* jupyter's `normalize.less` sets `[hidden] { display: none; }` but bootstrap.min.css set `[hidden] { display: none !important; }` so we also need the `!important` here to be able to override the default hidden behavior on the sphinx rendered scikit-learn.org. See: https://github.com/scikit-learn/scikit-learn/issues/21755 */display: inline-block !important;position: relative;}#sk-container-id-1 div.sk-text-repr-fallback {display: none;}</style><div id=\"sk-container-id-1\" class=\"sk-top-container\"><div class=\"sk-text-repr-fallback\"><pre>LinearRegression()</pre><b>In a Jupyter environment, please rerun this cell to show the HTML representation or trust the notebook. <br />On GitHub, the HTML representation is unable to render, please try loading this page with nbviewer.org.</b></div><div class=\"sk-container\" hidden><div class=\"sk-item\"><div class=\"sk-estimator sk-toggleable\"><input class=\"sk-toggleable__control sk-hidden--visually\" id=\"sk-estimator-id-1\" type=\"checkbox\" checked><label for=\"sk-estimator-id-1\" class=\"sk-toggleable__label sk-toggleable__label-arrow\">LinearRegression</label><div class=\"sk-toggleable__content\"><pre>LinearRegression()</pre></div></div></div></div></div>"
      ],
      "text/plain": [
       "LinearRegression()"
      ]
     },
     "execution_count": 6,
     "metadata": {},
     "output_type": "execute_result"
    }
   ],
   "source": [
    "from sklearn.linear_model import LinearRegression \n",
    "\n",
    "model = LinearRegression()\n",
    "model.fit(X, y)"
   ]
  },
  {
   "cell_type": "code",
   "execution_count": 7,
   "id": "economic-account",
   "metadata": {},
   "outputs": [
    {
     "name": "stdout",
     "output_type": "stream",
     "text": [
      "coef= [911.59607916]\n",
      "intercept= 1328.4631033844926\n"
     ]
    }
   ],
   "source": [
    "coef = model.coef_\n",
    "intercept = model.intercept_\n",
    "print('coef=', coef)\n",
    "print('intercept=', intercept)\n",
    "\n",
    "# What does coef represent in terms of y = mx + c?\n",
    "# Why is there only one value in the coef list?\n",
    "# What do we need in order to have more values in coef list?"
   ]
  },
  {
   "cell_type": "code",
   "execution_count": 8,
   "id": "00bf2471-68bf-40d0-9f79-e4d149699987",
   "metadata": {},
   "outputs": [
    {
     "name": "stdout",
     "output_type": "stream",
     "text": [
      "46908.2670613845\n"
     ]
    }
   ],
   "source": [
    "# y = mx + c\n",
    "print(911.59607916*(50) + 1328.4631033844926)"
   ]
  },
  {
   "cell_type": "code",
   "execution_count": 10,
   "id": "2e92cd90-fa2b-408d-8fc3-accfe06ed06a",
   "metadata": {},
   "outputs": [
    {
     "data": {
      "text/plain": [
       "array([46908.26706122])"
      ]
     },
     "execution_count": 10,
     "metadata": {},
     "output_type": "execute_result"
    }
   ],
   "source": [
    "model.predict(np.array(50).reshape(1,1))"
   ]
  },
  {
   "cell_type": "code",
   "execution_count": 9,
   "id": "d60e0763-0407-4485-9782-54f77f5f248f",
   "metadata": {},
   "outputs": [
    {
     "data": {
      "text/plain": [
       "array([19560.38468652, 33234.32587387, 35969.11411134, 39615.49842796,\n",
       "       40527.09450712, 50554.65137784, 51466.247457  , 54201.03569447,\n",
       "       56024.22785278, 57847.4200111 ])"
      ]
     },
     "execution_count": 9,
     "metadata": {},
     "output_type": "execute_result"
    }
   ],
   "source": [
    "model.predict(X)"
   ]
  },
  {
   "cell_type": "code",
   "execution_count": null,
   "id": "double-theory",
   "metadata": {},
   "outputs": [],
   "source": [
    "# Calculating the mean squared error\n",
    "'''\n",
    "Your turn: find the sklearn documentation in means squared error, read it and implement it here\n",
    "'''"
   ]
  },
  {
   "cell_type": "code",
   "execution_count": 15,
   "id": "fatty-surge",
   "metadata": {},
   "outputs": [
    {
     "name": "stdout",
     "output_type": "stream",
     "text": [
      "4289.920473460328\n",
      "28892287.775106348\n",
      "5375.154674528571\n"
     ]
    }
   ],
   "source": [
    "from sklearn.metrics import mean_absolute_error, mean_squared_error\n",
    "\n",
    "y_pred = model.predict(X)\n",
    "\n",
    "print(mean_absolute_error(y, y_pred))\n",
    "print(mean_squared_error(y, y_pred))\n",
    "print(mean_squared_error(y, y_pred, squared=False))"
   ]
  },
  {
   "cell_type": "code",
   "execution_count": null,
   "id": "covered-giving",
   "metadata": {},
   "outputs": [],
   "source": [
    "# Graph for predictions"
   ]
  },
  {
   "cell_type": "code",
   "execution_count": 17,
   "id": "fundamental-sister",
   "metadata": {},
   "outputs": [
    {
     "data": {
      "image/png": "[encoded data removed]",
      "text/plain": [
       "<Figure size 640x480 with 1 Axes>"
      ]
     },
     "metadata": {},
     "output_type": "display_data"
    }
   ],
   "source": [
    "import matplotlib.pyplot as plt\n",
    "\n",
    "plt.scatter(X, y, color='blue')\n",
    "plt.plot(X, y_pred, color='red')\n",
    "plt.xlabel('Age')\n",
    "plt.ylabel('Salary')\n",
    "plt.show()"
   ]
  },
  {
   "cell_type": "code",
   "execution_count": 22,
   "id": "behind-battle",
   "metadata": {},
   "outputs": [
    {
     "data": {
      "text/plain": [
       "array([92488.07101905])"
      ]
     },
     "execution_count": 22,
     "metadata": {},
     "output_type": "execute_result"
    }
   ],
   "source": [
    "# Making new predictions\n",
    "model.predict(np.array(100).reshape(1, 1))\n",
    "\n",
    "# Create a prediction for a 25 year old"
   ]
  },
  {
   "cell_type": "code",
   "execution_count": null,
   "id": "defined-peeing",
   "metadata": {},
   "outputs": [],
   "source": [
    "'''\n",
    "What's another interesting feature (column) that we could introduce? Add it to the dataframe, train a model, \n",
    "and generate new predictions. \n",
    "\n",
    "We should see an increase in the number of coefficient values that we get. How many y-intercepts would we expect to have?\n",
    "Use the sklearn documentation on linear regression to take a look at this.\n",
    "\n",
    "Bonus+: with an extra feature is there a way we could still plot a line of best fit?\n",
    "'''"
   ]
  },
  {
   "cell_type": "code",
   "execution_count": 23,
   "id": "technical-jones",
   "metadata": {},
   "outputs": [
    {
     "name": "stdout",
     "output_type": "stream",
     "text": [
      "   Age  Salary  Experience\n",
      "0   20   22000           1\n",
      "1   35   30000           5\n",
      "2   38   32000           5\n",
      "3   42   45000          12\n",
      "4   43   42000          13\n",
      "5   54   48000          24\n",
      "6   55   50000          25\n",
      "7   58   52000          20\n",
      "8   60   48000          30\n",
      "9   62   70000          35\n"
     ]
    }
   ],
   "source": [
    "salaries = {\n",
    "        'Age': [20,35,38,42,43,54,55,58,60,62],\n",
    "        'Salary':[22000,30000,32000,45000,42000,48000,50000,52000,48000,70000],\n",
    "        'Experience': [1,5,5,12,13,24,25,20,30,35]\n",
    "        }\n",
    "\n",
    "df = pd.DataFrame(salaries, columns = ['Age', 'Salary', 'Experience'])\n",
    "print(df)"
   ]
  },
  {
   "cell_type": "code",
   "execution_count": 25,
   "id": "9137df2a-4c3a-454b-9481-063d08ea5733",
   "metadata": {},
   "outputs": [],
   "source": [
    "X = np.array(df[['Age','Experience']]).reshape(10, 2)\n",
    "y = df['Salary']     "
   ]
  },
  {
   "cell_type": "code",
   "execution_count": 27,
   "id": "35a8825c-7ae4-4bd3-afcf-efd40b67c5a1",
   "metadata": {},
   "outputs": [
    {
     "data": {
      "text/plain": [
       "array([[20,  1],\n",
       "       [35,  5],\n",
       "       [38,  5],\n",
       "       [42, 12],\n",
       "       [43, 13],\n",
       "       [54, 24],\n",
       "       [55, 25],\n",
       "       [58, 20],\n",
       "       [60, 30],\n",
       "       [62, 35]], dtype=int64)"
      ]
     },
     "execution_count": 27,
     "metadata": {},
     "output_type": "execute_result"
    }
   ],
   "source": [
    "X"
   ]
  },
  {
   "cell_type": "code",
   "execution_count": 26,
   "id": "b4a990d8-4773-4d73-9cc1-dd9fce230599",
   "metadata": {},
   "outputs": [
    {
     "data": {
      "text/plain": [
       "array([23194.85200937, 31567.53146428, 32719.38460203, 38828.66287649,\n",
       "       39865.96736394, 51276.31672598, 52313.62121344, 50198.70714348,\n",
       "       57500.14365072, 61534.81295026])"
      ]
     },
     "execution_count": 26,
     "metadata": {},
     "output_type": "execute_result"
    }
   ],
   "source": [
    "model = LinearRegression()\n",
    "model.fit(X, y)\n",
    "\n",
    "y_pred = model.predict(X)\n",
    "y_pred"
   ]
  },
  {
   "cell_type": "code",
   "execution_count": 29,
   "id": "61d8c871-86ba-4cf2-9230-b0cd16deeb3a",
   "metadata": {},
   "outputs": [
    {
     "name": "stdout",
     "output_type": "stream",
     "text": [
      "[383.95104592 653.35344154]\n",
      "14862.477649509583\n"
     ]
    }
   ],
   "source": [
    "print(model.coef_)\n",
    "print(model.intercept_)"
   ]
  },
  {
   "cell_type": "code",
   "execution_count": 30,
   "id": "5a214463-30ec-40dc-b0a9-e05d878a7dec",
   "metadata": {},
   "outputs": [
    {
     "name": "stdout",
     "output_type": "stream",
     "text": [
      "23175\n"
     ]
    }
   ],
   "source": [
    "# y = m1x1 + m2x2 + c\n",
    "print(383*20 + 653*1 + 14862)"
   ]
  },
  {
   "cell_type": "code",
   "execution_count": null,
   "id": "389a6d6f-a7bd-4a97-8967-7929a636d044",
   "metadata": {},
   "outputs": [],
   "source": []
  },
  {
   "cell_type": "code",
   "execution_count": null,
   "id": "proprietary-bridges",
   "metadata": {},
   "outputs": [],
   "source": [
    "'''\n",
    "Practise:\n",
    "- Clean the dataframe below\n",
    "- Apply linear regression to find the line of best fit based on credit rating - probability of timely mortgage repayments\n",
    "- Output the coefficient and the y-intercept of the line\n",
    "- Use the coefficients and y-intercept to make a new prediction\n",
    "- Plot out the line of best fit\n",
    "- Use sklearn to generate a new prediction\n",
    "Bonus: have a read of the documentation to see what hyperparameters you can change to improve your model\n",
    "(the data is so small that there won't be much chance for optimisation but it is important to get familiar with \n",
    "the documentation and hyperparameters)\n",
    "'''"
   ]
  },
  {
   "cell_type": "code",
   "execution_count": null,
   "id": "applied-yugoslavia",
   "metadata": {},
   "outputs": [],
   "source": []
  },
  {
   "cell_type": "code",
   "execution_count": null,
   "id": "smaller-force",
   "metadata": {},
   "outputs": [],
   "source": [
    "df = pd.DataFrame()\n",
    "\n",
    "payments = {\n",
    "        'Name': ['Joe Harris','Jessica Davies','Bob Marker','Zoe Elps', 'Bill Harris','Emma Hale','Frank Fogel', 'Joan Hersch'],\n",
    "        'Occupation':['Teacher','Engineer','Baker','Doctor','Astonaut','Actress','Accountant','Lawyer'],\n",
    "        'credit_rating':[500,700,480,800,530,np.nan,580,500],\n",
    "        'percentage_timely_lifetime_payments':[950,80,66,99,70,68,92,90]\n",
    "\n",
    "\n",
    "        }\n",
    "\n",
    "df = pd.DataFrame(payments, columns = ['Name', 'Occupation', 'credit_rating', 'percentage_timely_lifetime_payments'])\n",
    "df"
   ]
  },
  {
   "cell_type": "code",
   "execution_count": null,
   "id": "bored-virus",
   "metadata": {},
   "outputs": [],
   "source": [
    "'''\n",
    "- Practise - titanic dataset\n",
    "- Apply linear regression using to predict the persons fare based on their age.\n",
    "- Plot this line of best fit along with a scatter plot of the real data. How does our linear regression perform?\n",
    "- Could it have done better? How could we assess how effective age should be as a predictor of fare?\n",
    "\n",
    "'''"
   ]
  },
  {
   "cell_type": "code",
   "execution_count": null,
   "id": "recreational-publicity",
   "metadata": {},
   "outputs": [],
   "source": [
    "file_path = 'datasets/titanic.csv'"
   ]
  },
  {
   "cell_type": "code",
   "execution_count": null,
   "id": "mediterranean-nelson",
   "metadata": {},
   "outputs": [],
   "source": [
    "df = pd.read_csv(file_path)\n",
    "df.dropna(axis=0, inplace=True)\n",
    "df"
   ]
  },
  {
   "cell_type": "code",
   "execution_count": null,
   "id": "elder-senegal",
   "metadata": {},
   "outputs": [],
   "source": [
    "X = df[['Age','Pclass']]\n",
    "y = df['Fare']\n",
    "model = LinearRegression()\n",
    "model.fit(X, y)"
   ]
  },
  {
   "cell_type": "code",
   "execution_count": null,
   "id": "assigned-insertion",
   "metadata": {},
   "outputs": [],
   "source": [
    "coef = model.coef_\n",
    "intercept = model.intercept_\n",
    "print('coef= ', coef)\n",
    "print('intercept= ', intercept)"
   ]
  },
  {
   "cell_type": "code",
   "execution_count": null,
   "id": "fossil-terrace",
   "metadata": {},
   "outputs": [],
   "source": [
    "from sklearn.metrics import mean_squared_error\n",
    "yhat = model.predict(X)\n",
    "mean_squared_error(y, yhat)"
   ]
  },
  {
   "cell_type": "code",
   "execution_count": null,
   "id": "chief-preference",
   "metadata": {},
   "outputs": [],
   "source": [
    "model.predict(np.array([70,2]).reshape(1, 2))"
   ]
  },
  {
   "cell_type": "code",
   "execution_count": null,
   "id": "general-stress",
   "metadata": {},
   "outputs": [],
   "source": [
    "'''\n",
    "If there's time:\n",
    "\n",
    "- Select two features that you hypothesise will be the best predictors of house prices\n",
    "- Clean these features\n",
    "- Apply a linear regression model to the house prices data, outputting the MSE\n",
    "- Outside of this session, invite people you know who own a house to provide information on these two features and \n",
    "predict the value of their house for them\n",
    "- Bonus: have a think - could a more sophisticated version of this tool be valuable for property companies in your area?\n",
    "'''"
   ]
  },
  {
   "cell_type": "code",
   "execution_count": null,
   "id": "comfortable-remedy",
   "metadata": {},
   "outputs": [],
   "source": [
    "file_path = 'datasets/house_prices.csv'"
   ]
  },
  {
   "cell_type": "code",
   "execution_count": null,
   "id": "competent-preparation",
   "metadata": {},
   "outputs": [],
   "source": []
  },
  {
   "cell_type": "markdown",
   "id": "amber-acting",
   "metadata": {},
   "source": [
    "***"
   ]
  },
  {
   "cell_type": "code",
   "execution_count": null,
   "id": "loving-issue",
   "metadata": {},
   "outputs": [],
   "source": [
    "# Matrix operations with numpy"
   ]
  },
  {
   "cell_type": "code",
   "execution_count": null,
   "id": "advance-yugoslavia",
   "metadata": {},
   "outputs": [],
   "source": [
    "#Creating a 3x3 matrix\n",
    "matrix = np.arange(2, 11).reshape(3,3)\n",
    "print(matrix)"
   ]
  },
  {
   "cell_type": "code",
   "execution_count": null,
   "id": "naughty-protection",
   "metadata": {},
   "outputs": [],
   "source": [
    "#scalar multiplied by a matrix\n",
    "3 * matrix"
   ]
  },
  {
   "cell_type": "code",
   "execution_count": null,
   "id": "distant-clearance",
   "metadata": {},
   "outputs": [],
   "source": [
    "#Creating a 3x1 vector\n",
    "array = np.arange(2,5)\n",
    "print(array)"
   ]
  },
  {
   "cell_type": "code",
   "execution_count": null,
   "id": "falling-auditor",
   "metadata": {},
   "outputs": [],
   "source": [
    "# Creating a dot product\n",
    "#Before running this code, what will the resulting shape be? How can you print this?\n",
    "np.dot(matrix,array)"
   ]
  },
  {
   "cell_type": "code",
   "execution_count": null,
   "id": "south-might",
   "metadata": {},
   "outputs": [],
   "source": [
    "'''\n",
    "Do the following by hand, then with code\n",
    "Create a 4x4 matrix\n",
    "- multiply it by 10\n",
    "- subtract 3\n",
    "\n",
    "- add another 4x4 matrix to the original matrix\n",
    "- multiply it by a suitably shaped vector\n",
    "\n",
    "'''"
   ]
  },
  {
   "cell_type": "code",
   "execution_count": null,
   "id": "detailed-pharmaceutical",
   "metadata": {},
   "outputs": [],
   "source": []
  },
  {
   "cell_type": "markdown",
   "id": "broadband-guitar",
   "metadata": {},
   "source": [
    "***"
   ]
  }
 ],
 "metadata": {
  "kernelspec": {
   "display_name": "Python 3 (ipykernel)",
   "language": "python",
   "name": "python3"
  },
  "language_info": {
   "codemirror_mode": {
    "name": "ipython",
    "version": 3
   },
   "file_extension": ".py",
   "mimetype": "text/x-python",
   "name": "python",
   "nbconvert_exporter": "python",
   "pygments_lexer": "ipython3",
   "version": "3.10.11"
  }
 },
 "nbformat": 4,
 "nbformat_minor": 5
}
