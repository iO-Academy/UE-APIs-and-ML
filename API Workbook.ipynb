{
 "cells": [
  {
   "cell_type": "markdown",
   "id": "4d4a98ee-0ab3-4217-86dc-0926ae0db6f5",
   "metadata": {},
   "source": [
    "# Interacting with APIs"
   ]
  },
  {
   "cell_type": "markdown",
   "id": "f47d355a-dcd9-4a0e-9452-5ef9a24e64ab",
   "metadata": {},
   "source": [
    "### Basic GET Request\n",
    "\n",
    "How to make a HTTP request"
   ]
  },
  {
   "cell_type": "code",
   "execution_count": 13,
   "id": "b3b69589-ec55-4649-8bc5-21e900ec28c4",
   "metadata": {},
   "outputs": [
    {
     "name": "stdout",
     "output_type": "stream",
     "text": [
      "Pikachu type: electric\n"
     ]
    }
   ],
   "source": [
    " import requests\n",
    "\n",
    "response = requests.get('https://pokeapi.co/api/v2/pokemon/pikachu')\n",
    "pikachu = response.json()\n",
    "print('Pikachu type:', pikachu['types'][0]['type']['name'])"
   ]
  },
  {
   "cell_type": "markdown",
   "id": "13eff2d2-a03f-454b-82c3-5830bf76f9b9",
   "metadata": {},
   "source": [
    "#### Exercise 1\n",
    "\n",
    "Get the latest Bitcoin price data and output the price of one bitcoin in USD using the following API:\n",
    "\n",
    "https://api.coindesk.com/v1/bpi/currentprice.json"
   ]
  },
  {
   "cell_type": "code",
   "execution_count": 17,
   "id": "4c2ad73c-3ba3-469c-95d2-cf30384da7e7",
   "metadata": {},
   "outputs": [
    {
     "name": "stdout",
     "output_type": "stream",
     "text": [
      "Price per bitcoin: $ 42,390.919\n"
     ]
    }
   ],
   "source": [
    "import requests\n",
    "\n",
    "response = requests.get('https://api.coindesk.com/v1/bpi/currentprice.json')\n",
    "bitcoinData = response.json()\n",
    "print('Price per bitcoin: $', bitcoinData['bpi']['USD']['rate'])\n"
   ]
  },
  {
   "cell_type": "markdown",
   "id": "ffe45474-48db-4887-9663-0682eefdc9d0",
   "metadata": {},
   "source": [
    "### REST API Example"
   ]
  },
  {
   "cell_type": "markdown",
   "id": "504c2e72-8cbd-40cd-bcb8-d2cb54c38c74",
   "metadata": {},
   "source": [
    "#### GET Request\n",
    "\n",
    "Using a REST structure, get information about Darth Vader from the StarWars API"
   ]
  },
  {
   "cell_type": "code",
   "execution_count": 23,
   "id": "02894f1e-5e3e-41cf-837e-1f68b525602c",
   "metadata": {},
   "outputs": [
    {
     "name": "stdout",
     "output_type": "stream",
     "text": [
      "Name: Darth Vader\n",
      "Height: 202\n",
      "DOB: 41.9BBY\n"
     ]
    }
   ],
   "source": [
    "import requests\n",
    "response = requests.get('https://swapi.dev/api/people/4/')\n",
    "person = response.json()\n",
    "print('Name: ' + person['name'])\n",
    "print('Height: ' + person['height'])\n",
    "print('DOB: ' + person['birth_year'])"
   ]
  },
  {
   "cell_type": "markdown",
   "id": "1c1c1669-7d5e-4628-aa3b-f42d60aaadeb",
   "metadata": {},
   "source": [
    "#### Exercise 2\n",
    "\n",
    "Output the name and crew size of star starship with ID **3** from this API:\n",
    "\n",
    "https://swapi.dev/documentation#intro"
   ]
  },
  {
   "cell_type": "code",
   "execution_count": 21,
   "id": "adb32176-b4a2-4ea6-95af-db6b379bb14e",
   "metadata": {},
   "outputs": [
    {
     "name": "stdout",
     "output_type": "stream",
     "text": [
      "Name: Star Destroyer\n",
      "Crew: 47,060\n"
     ]
    }
   ],
   "source": [
    "import requests\n",
    "response = requests.get('https://swapi.dev/api/starships/3/')\n",
    "starship = response.json()\n",
    "print('Name:', starship['name'])\n",
    "print('Crew:', starship['crew'])"
   ]
  },
  {
   "cell_type": "markdown",
   "id": "c0f09ca7-2cc1-460c-acf4-666ea402575a",
   "metadata": {},
   "source": [
    "#### Post Request\n",
    "\n",
    "Send data to a REST API to create a new post.\n",
    "\n",
    "**Note:** resource will not be really updated on the server but it will be faked"
   ]
  },
  {
   "cell_type": "code",
   "execution_count": 6,
   "id": "fd0ec4f3-4569-43cb-bacf-16bda81ca7ff",
   "metadata": {},
   "outputs": [
    {
     "name": "stdout",
     "output_type": "stream",
     "text": [
      "{'title': 'foo', 'body': 'bar', 'userId': 1, 'id': 101}\n"
     ]
    }
   ],
   "source": [
    "import requests\n",
    "\n",
    "payload = {'title': 'foo', 'body': 'bar', 'userId': 1}\n",
    "\n",
    "response = requests.post(\"https://jsonplaceholder.typicode.com/posts\", json=payload)\n",
    "\n",
    "print(response.json())"
   ]
  },
  {
   "cell_type": "markdown",
   "id": "03c98c1a-04e0-4b24-8cb1-c31e3065482e",
   "metadata": {},
   "source": [
    "#### Exercise 3\n",
    "\n",
    "Send a PUT request to post ID **1** to change the title and/or body for this API:\n",
    "\n",
    "https://jsonplaceholder.typicode.com/guide/\n",
    "\n",
    "(You should get back a copy of the data you send it)"
   ]
  },
  {
   "cell_type": "code",
   "execution_count": 26,
   "id": "f7ae3f3c-7420-4804-91cf-5389d70ba4c3",
   "metadata": {},
   "outputs": [
    {
     "name": "stdout",
     "output_type": "stream",
     "text": [
      "{'userId': 1, 'id': 1, 'title': 'this is a post update', 'body': 'this is a post update'}\n"
     ]
    }
   ],
   "source": [
    "import requests\n",
    "\n",
    "payload = {'userId': 1, 'id': 1, 'title':'this is a post update', 'body':'this is a post update'}\n",
    "response = requests.put(\"https://jsonplaceholder.typicode.com/posts/1\", json=payload)\n",
    "\n",
    "print(response.json())"
   ]
  },
  {
   "cell_type": "markdown",
   "id": "c87c5392-46a4-46c7-9fed-362efa5f1a6f",
   "metadata": {},
   "source": [
    "### GraphQL Example"
   ]
  },
  {
   "cell_type": "markdown",
   "id": "09822e9a-c0d8-41f9-9e0b-7c49a21523f4",
   "metadata": {},
   "source": [
    "#### Query Example"
   ]
  },
  {
   "cell_type": "code",
   "execution_count": 5,
   "id": "07bc265b-ea3b-4824-912f-ce26a632c9c7",
   "metadata": {},
   "outputs": [
    {
     "name": "stdout",
     "output_type": "stream",
     "text": [
      "{'data': {'country': {'name': 'Brazil', 'native': 'Brasil', 'emoji': '🇧🇷', 'currency': 'BRL', 'languages': [{'code': 'pt', 'name': 'Portuguese'}]}}}\n"
     ]
    }
   ],
   "source": [
    "import requests\n",
    "\n",
    "url = \"https://countries.trevorblades.com\"\n",
    "\n",
    "payload = {'query': '''\n",
    "{\n",
    "  country(code: \"BR\") {\n",
    "    name\n",
    "    native\n",
    "    emoji\n",
    "    currency\n",
    "    languages {\n",
    "      code\n",
    "      name\n",
    "    }\n",
    "  }\n",
    "}\n",
    "'''}\n",
    "\n",
    "response = requests.post(url, json=payload)\n",
    "print(response.json())"
   ]
  },
  {
   "cell_type": "markdown",
   "id": "6df3696e-4364-426d-9392-8b682dcf4458",
   "metadata": {},
   "source": [
    "## ChatGPT API\n",
    "\n",
    "The ChatGPT API requires you to pay to use it. The below demo shows how you would use it."
   ]
  },
  {
   "cell_type": "code",
   "execution_count": 7,
   "id": "5cb1bbd2-d86b-4509-9f35-4da388336011",
   "metadata": {},
   "outputs": [
    {
     "name": "stdout",
     "output_type": "stream",
     "text": [
      "Name: Valen Draxus\n",
      "\n",
      "Background: Valen Draxus is a captivating and enigmatic character in the Star Wars universe. Born on the remote desert planet of Ja'Quar, Valen grew up in a harsh environment, where survival skills and cunning instincts were essential. He is a skilled pilot, an ingenious mechanic, and a shrewd negotiator, all learned through necessity while navigating the treacherous underground world of smugglers and criminals.\n",
      "\n",
      "Appearance: Valen has an athletic and rugged build, with wild, unkempt dark hair, and piercing amber eyes that hint at a troubled past. He wears a mix of worn-out, practical clothing, layers of tan and sand-colored fabrics, and a durable, custom-made utility belt adorned with a variety of tools and gadgets.\n",
      "\n",
      "Personality: Valen possesses an uncanny mix of charm, wit, and a relentless drive to protect those he cares about. He has a mysterious aura, often keeping his true intentions hidden beneath a mask of aversion and indifference. Valen is self-reliant, preferring not to depend on others, but he also possesses a kind heart and a sense of justice that drives him to help the innocent and fight against injustice.\n",
      "\n",
      "Unique Skills and Abilities: Valen is an exceptional pilot who can maneuver any starship with precision and finesse, especially in adrenaline-fueled chase sequences. He is resourceful and mechanically inclined, capable of repairing and modifying various droids and spacecraft to gain the upper hand. Valen has a natural knack for languages, effortlessly picking up alien dialects and codes, making him a valuable asset when it comes to deciphering encrypted messages.\n",
      "\n",
      "Role in the Story: Valen finds himself reluctantly pulled into the ongoing conflict between the Resistance and the remnants of the First Order. Fueled by a personal vendetta against those who have threatened his loved ones, he becomes an unlikely ally to the main heroes, utilizing his skills and knowledge of the seedy underworld to assist in their battle against the forces of darkness. Through his journey, Valen must confront his own past and make choices that will define his place in the galaxy.\n",
      "\n",
      "Overall, Valen Draxus is a complex and layered character, who brings a compelling mix of mystery, skills, and adventure to the Star Wars saga. His appearance adds a fresh perspective to the established universe, further enriching the narrative and captivating audiences with his mysterious past and unpredictable actions.\n"
     ]
    }
   ],
   "source": [
    "from openai import OpenAI\n",
    "\n",
    "client = OpenAI(\n",
    "    api_key=\"KEY HERE\"\n",
    ")\n",
    "\n",
    "response = client.chat.completions.create(\n",
    "  model=\"gpt-3.5-turbo\",\n",
    "  messages=[\n",
    "    {\"role\": \"system\", \"content\": \"You are a writer on the new starwars movie\"},\n",
    "    {\"role\": \"user\", \"content\": \"Write a brief summary of a new starwars character\"}\n",
    "  ]\n",
    ")\n",
    "\n",
    "print(response.choices[0].message.content)"
   ]
  },
  {
   "cell_type": "markdown",
   "id": "615a9a06-1136-42a1-8f22-345fb69420e7",
   "metadata": {},
   "source": [
    "### Continuous chat\n",
    "\n",
    "Here is an example of how you could use a while loop to create a continuous chat with ChatGPT"
   ]
  },
  {
   "cell_type": "code",
   "execution_count": 31,
   "id": "572eae9e-4ebd-4a46-8ba3-f21d0b187921",
   "metadata": {},
   "outputs": [
    {
     "name": "stdin",
     "output_type": "stream",
     "text": [
      "Welcome to BigBurger, how can I help?\n",
      " can i have a burger please?\n",
      "Of course! What kind of burger would you like? We have classic beef burgers, as well as options like cheeseburgers, bacon burgers, veggie burgers, and chicken burgers.\n",
      " actually, can you write a lesson plan for a lecture on a masters course in technology finance and policy\n",
      "Certainly! Here's a sample lesson plan for a lecture in a master's course on Technology Finance and Policy:\n",
      "\n",
      "Lesson Title: The Intersection of Technology, Finance, and Policy\n",
      "\n",
      "Course: Technology Finance and Policy (Master's level)\n",
      "\n",
      "Duration: 90 minutes\n",
      "\n",
      "I. Introduction (5 minutes)\n",
      "- Greet the students\n",
      "- Briefly explain the importance of understanding the intersection of technology, finance, and policy in today's rapidly evolving world\n",
      "\n",
      "II. Overview of the Course (10 minutes)\n",
      "- Recap the key topics covered in the course so far\n",
      "- Highlight the relevance of technology finance and policy in the current industry landscape\n",
      "\n",
      "III. Understanding Technology Trends (20 minutes)\n",
      "- Discuss the latest technology trends shaping the economy\n",
      "- Explain the impact of emerging technologies like artificial intelligence, blockchain, and automation on finance and policy\n",
      "- Explore real-world examples and case studies to illustrate these trends\n",
      "\n",
      "IV. The Role of Policy in Technology Finance (30 minutes)\n",
      "- Analyze the influence of policy on the technology finance ecosystem\n",
      "- Discuss regulatory frameworks and their effects on technology companies and financial institutions\n",
      "- Examine the challenges and opportunities presented by policy decisions in areas such as data privacy, cybersecurity, and intellectual property rights\n",
      "\n",
      "V. Financing Technology Ventures (20 minutes)\n",
      "- Introduce various financing options available to technology ventures\n",
      "- Discuss venture capital, angel investing, initial public offerings (IPOs), and other funding mechanisms\n",
      "- Highlight the risks and benefits associated with different types of financing\n",
      "\n",
      "VI. Policy Implications in Technology Finance (20 minutes)\n",
      "- Explore the impact of policy decisions on technology funding and investment\n",
      "- Discuss the concept of risk perception and how it affects the financing of technology projects\n",
      "- Present case studies showcasing the interplay between policy decisions, investor sentiment, and technology finance\n",
      "\n",
      "VII. Q&A and Discussion (15 minutes)\n",
      "- Encourage students to ask questions and share their thoughts on the topics covered\n",
      "- Facilitate a discussion on the challenges and opportunities in the intersection of technology, finance, and policy\n",
      "\n",
      "VIII. Wrap-up and Conclusion (5 minutes)\n",
      "- Summarize the key takeaways from the lecture\n",
      "- Provide any additional resources or recommended readings for further exploration\n",
      "\n",
      "Please note that this is just a sample lesson plan and can be adjusted according to the specific needs and objectives of the course.\n",
      " exit\n"
     ]
    },
    {
     "name": "stdout",
     "output_type": "stream",
     "text": [
      "Thank you for coming to BigBurger\n"
     ]
    }
   ],
   "source": [
    "from openai import OpenAI\n",
    "\n",
    "client = OpenAI(\n",
    "    api_key=\"KEY HERE\"\n",
    ")\n",
    "\n",
    "payload = [\n",
    "    {\"role\": \"system\", \"content\": \"You are a server at an american burger place called bigburger\"},\n",
    "  ]\n",
    "\n",
    "def SendChatGPT(payload):\n",
    "    response = client.chat.completions.create(\n",
    "      model=\"gpt-3.5-turbo\",\n",
    "      messages=payload\n",
    "    )\n",
    "    return response.choices[0].message.content\n",
    "\n",
    "r = input(\"Welcome to BigBurger, how can I help?\\n\")\n",
    "payload.append({\"role\":\"user\", 'content': r})\n",
    "\n",
    "while (r != \"exit\"):\n",
    "    chat = SendChatGPT(payload)\n",
    "    payload.append({\"role\":\"assistant\", 'content': chat})\n",
    "    r = input(chat + \"\\n\")\n",
    "    payload.append({\"role\":\"user\", 'content': r})\n",
    "else:\n",
    "    print(\"Thank you for coming to BigBurger\")"
   ]
  },
  {
   "cell_type": "markdown",
   "id": "f40571cc-ee6e-4e66-98b0-f63527312327",
   "metadata": {},
   "source": [
    "### EXERCISE 4\n",
    "\n",
    "Duplicate (or edit) the above code to simulate a lecturer for a Masters in Finance, Technology and Policy having a conversation with you, a student"
   ]
  },
  {
   "cell_type": "code",
   "execution_count": 32,
   "id": "c9dbc0ef-e8b1-49df-bc06-54521cc0e929",
   "metadata": {},
   "outputs": [
    {
     "name": "stdin",
     "output_type": "stream",
     "text": [
      "Hi Mike, how can I help?\n",
      " exit\n"
     ]
    },
    {
     "name": "stdout",
     "output_type": "stream",
     "text": [
      "Glad I could help\n"
     ]
    }
   ],
   "source": [
    "from openai import OpenAI\n",
    "\n",
    "client = OpenAI(\n",
    "    api_key=\"KEY HERE\"\n",
    ")\n",
    "\n",
    "payload = [\n",
    "    {\"role\": \"system\", \"content\": \"You are a lecturer on a Masters degree course in Finance, Technology and Policy\"},\n",
    "  ]\n",
    "\n",
    "def SendChatGPT(payload):\n",
    "    response = client.chat.completions.create(\n",
    "      model=\"gpt-3.5-turbo\",\n",
    "      messages=payload\n",
    "    )\n",
    "    return response.choices[0].message.content\n",
    "\n",
    "r = input(\"Hi Mike, how can I help?\\n\")\n",
    "payload.append({\"role\":\"user\", 'content': r})\n",
    "\n",
    "while (r != \"exit\"):\n",
    "    chat = SendChatGPT(payload)\n",
    "    payload.append({\"role\":\"assistant\", 'content': chat})\n",
    "    r = input(chat + \"\\n\")\n",
    "    payload.append({\"role\":\"user\", 'content': r})\n",
    "else:\n",
    "    print(\"Glad I could help\")"
   ]
  },
  {
   "cell_type": "markdown",
   "id": "03820bd6-6e5a-42bd-9bac-a4f0ad8bd5b2",
   "metadata": {},
   "source": [
    "## Load CSV into Pandas\n",
    "\n",
    "If you are on a Mac, you may need to run `Install Certificates.command` from `\\Applications\\Python 3.x`"
   ]
  },
  {
   "cell_type": "raw",
   "id": "ca70417e-993f-423d-9bcb-ab636d2ebc04",
   "metadata": {},
   "source": [
    "import pandas as pd\n",
    "\n",
    "# data = pd.read_csv('data/fraudTrain.csv')\n",
    "data = pd.read_csv('https://dev.io-academy.uk/resources/cc-fraud-data/fraudTrain.csv')\n",
    "\n",
    "print(data.head())\n"
   ]
  }
 ],
 "metadata": {
  "kernelspec": {
   "display_name": "Python 3 (ipykernel)",
   "language": "python",
   "name": "python3"
  },
  "language_info": {
   "codemirror_mode": {
    "name": "ipython",
    "version": 3
   },
   "file_extension": ".py",
   "mimetype": "text/x-python",
   "name": "python",
   "nbconvert_exporter": "python",
   "pygments_lexer": "ipython3",
   "version": "3.12.1"
  }
 },
 "nbformat": 4,
 "nbformat_minor": 5
}
