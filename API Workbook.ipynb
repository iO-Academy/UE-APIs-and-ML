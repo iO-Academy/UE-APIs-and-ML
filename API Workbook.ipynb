{
 "cells": [
  {
   "cell_type": "markdown",
   "id": "4d4a98ee-0ab3-4217-86dc-0926ae0db6f5",
   "metadata": {},
   "source": [
    "# Interacting with APIs"
   ]
  },
  {
   "cell_type": "markdown",
   "id": "13eff2d2-a03f-454b-82c3-5830bf76f9b9",
   "metadata": {},
   "source": [
    "#### Basic Example\n",
    "\n",
    "Get the latest Bitcoin proce data"
   ]
  },
  {
   "cell_type": "code",
   "execution_count": 22,
   "id": "4c2ad73c-3ba3-469c-95d2-cf30384da7e7",
   "metadata": {},
   "outputs": [
    {
     "name": "stdout",
     "output_type": "stream",
     "text": [
      "{'time': {'updated': 'Jan 17, 2024 12:16:16 UTC', 'updatedISO': '2024-01-17T12:16:16+00:00', 'updateduk': 'Jan 17, 2024 at 12:16 GMT'}, 'disclaimer': 'This data was produced from the CoinDesk Bitcoin Price Index (USD). Non-USD currency data converted using hourly conversion rate from openexchangerates.org', 'chartName': 'Bitcoin', 'bpi': {'USD': {'code': 'USD', 'symbol': '&#36;', 'rate': '42,569.437', 'description': 'United States Dollar', 'rate_float': 42569.4366}, 'GBP': {'code': 'GBP', 'symbol': '&pound;', 'rate': '33,579.24', 'description': 'British Pound Sterling', 'rate_float': 33579.2399}, 'EUR': {'code': 'EUR', 'symbol': '&euro;', 'rate': '39,155.666', 'description': 'Euro', 'rate_float': 39155.6658}}}\n"
     ]
    }
   ],
   "source": [
    "import requests\n",
    "\n",
    "response = requests.get('https://api.coindesk.com/v1/bpi/currentprice.json')\n",
    "print(response.json())\n"
   ]
  },
  {
   "cell_type": "markdown",
   "id": "ffe45474-48db-4887-9663-0682eefdc9d0",
   "metadata": {},
   "source": [
    "### REST API Example"
   ]
  },
  {
   "cell_type": "markdown",
   "id": "504c2e72-8cbd-40cd-bcb8-d2cb54c38c74",
   "metadata": {},
   "source": [
    "#### GET Request\n",
    "\n",
    "Using a REST structure, get information about Darth Vader from the StarWars API"
   ]
  },
  {
   "cell_type": "code",
   "execution_count": 23,
   "id": "02894f1e-5e3e-41cf-837e-1f68b525602c",
   "metadata": {},
   "outputs": [
    {
     "name": "stdout",
     "output_type": "stream",
     "text": [
      "Name: Darth Vader\n",
      "Height: 202\n",
      "DOB: 41.9BBY\n"
     ]
    }
   ],
   "source": [
    "import requests\n",
    "response = requests.get('https://swapi.dev/api/people/4/')\n",
    "person = response.json()\n",
    "print('Name: ' + person['name'])\n",
    "print('Height: ' + person['height'])\n",
    "print('DOB: ' + person['birth_year'])"
   ]
  },
  {
   "cell_type": "markdown",
   "id": "c0f09ca7-2cc1-460c-acf4-666ea402575a",
   "metadata": {},
   "source": [
    "#### Post Request\n",
    "\n",
    "Send data to a REST API to create a new post.\n",
    "\n",
    "**Note:** resource will not be really updated on the server but it will be faked"
   ]
  },
  {
   "cell_type": "code",
   "execution_count": 6,
   "id": "fd0ec4f3-4569-43cb-bacf-16bda81ca7ff",
   "metadata": {},
   "outputs": [
    {
     "name": "stdout",
     "output_type": "stream",
     "text": [
      "{'title': 'foo', 'body': 'bar', 'userId': 1, 'id': 101}\n"
     ]
    }
   ],
   "source": [
    "import requests\n",
    "\n",
    "payload = {'title': 'foo', 'body': 'bar', 'userId': 1}\n",
    "\n",
    "response = requests.post(\"https://jsonplaceholder.typicode.com/posts\", json=payload)\n",
    "\n",
    "print(response.json())"
   ]
  },
  {
   "cell_type": "markdown",
   "id": "c87c5392-46a4-46c7-9fed-362efa5f1a6f",
   "metadata": {},
   "source": [
    "### GraphQL Example"
   ]
  },
  {
   "cell_type": "markdown",
   "id": "09822e9a-c0d8-41f9-9e0b-7c49a21523f4",
   "metadata": {},
   "source": [
    "#### Query Example"
   ]
  },
  {
   "cell_type": "code",
   "execution_count": 5,
   "id": "07bc265b-ea3b-4824-912f-ce26a632c9c7",
   "metadata": {},
   "outputs": [
    {
     "name": "stdout",
     "output_type": "stream",
     "text": [
      "{'data': {'country': {'name': 'Brazil', 'native': 'Brasil', 'emoji': '🇧🇷', 'currency': 'BRL', 'languages': [{'code': 'pt', 'name': 'Portuguese'}]}}}\n"
     ]
    }
   ],
   "source": [
    "import requests\n",
    "\n",
    "url = \"https://countries.trevorblades.com\"\n",
    "\n",
    "payload = {'query': '''\n",
    "{\n",
    "  country(code: \"BR\") {\n",
    "    name\n",
    "    native\n",
    "    emoji\n",
    "    currency\n",
    "    languages {\n",
    "      code\n",
    "      name\n",
    "    }\n",
    "  }\n",
    "}\n",
    "'''}\n",
    "\n",
    "response = requests.post(url, json=payload)\n",
    "print(response.json())"
   ]
  },
  {
   "cell_type": "markdown",
   "id": "03820bd6-6e5a-42bd-9bac-a4f0ad8bd5b2",
   "metadata": {},
   "source": [
    "## Load CSV into Pandas\n",
    "\n",
    "If you are on a Mac, you may need to run `Install Certificates.command` from `\\Applications\\Python 3.x`"
   ]
  },
  {
   "cell_type": "code",
   "execution_count": 3,
   "id": "67c8edd0-a8f0-4031-85ea-0b7b094c8616",
   "metadata": {},
   "outputs": [
    {
     "name": "stdout",
     "output_type": "stream",
     "text": [
      "   Unnamed: 0 trans_date_trans_time            cc_num  \\\n",
      "0           0   2019-01-01 00:00:18  2703186189652095   \n",
      "1           1   2019-01-01 00:00:44      630423337322   \n",
      "2           2   2019-01-01 00:00:51    38859492057661   \n",
      "3           3   2019-01-01 00:01:16  3534093764340240   \n",
      "4           4   2019-01-01 00:03:06   375534208663984   \n",
      "\n",
      "                             merchant       category     amt      first  \\\n",
      "0          fraud_Rippin, Kub and Mann       misc_net    4.97   Jennifer   \n",
      "1     fraud_Heller, Gutmann and Zieme    grocery_pos  107.23  Stephanie   \n",
      "2                fraud_Lind-Buckridge  entertainment  220.11     Edward   \n",
      "3  fraud_Kutch, Hermiston and Farrell  gas_transport   45.00     Jeremy   \n",
      "4                 fraud_Keeling-Crist       misc_pos   41.96      Tyler   \n",
      "\n",
      "      last gender                        street  ...      lat      long  \\\n",
      "0    Banks      F                561 Perry Cove  ...  36.0788  -81.1781   \n",
      "1     Gill      F  43039 Riley Greens Suite 393  ...  48.8878 -118.2105   \n",
      "2  Sanchez      M      594 White Dale Suite 530  ...  42.1808 -112.2620   \n",
      "3    White      M   9443 Cynthia Court Apt. 038  ...  46.2306 -112.1138   \n",
      "4   Garcia      M              408 Bradley Rest  ...  38.4207  -79.4629   \n",
      "\n",
      "   city_pop                                job         dob  \\\n",
      "0      3495          Psychologist, counselling  1988-03-09   \n",
      "1       149  Special educational needs teacher  1978-06-21   \n",
      "2      4154        Nature conservation officer  1962-01-19   \n",
      "3      1939                    Patent attorney  1967-01-12   \n",
      "4        99     Dance movement psychotherapist  1986-03-28   \n",
      "\n",
      "                          trans_num   unix_time  merch_lat  merch_long  \\\n",
      "0  0b242abb623afc578575680df30655b9  1325376018  36.011293  -82.048315   \n",
      "1  1f76529f8574734946361c461b024d99  1325376044  49.159047 -118.186462   \n",
      "2  a1a22d70485983eac12b5b88dad1cf95  1325376051  43.150704 -112.154481   \n",
      "3  6b849c168bdad6f867558c3793159a81  1325376076  47.034331 -112.561071   \n",
      "4  a41d7549acf90789359a9aa5346dcb46  1325376186  38.674999  -78.632459   \n",
      "\n",
      "   is_fraud  \n",
      "0         0  \n",
      "1         0  \n",
      "2         0  \n",
      "3         0  \n",
      "4         0  \n",
      "\n",
      "[5 rows x 23 columns]\n"
     ]
    }
   ],
   "source": [
    "import pandas as pd\n",
    "\n",
    "# data = pd.read_csv('data/fraudTrain.csv')\n",
    "data = pd.read_csv('https://dev.io-academy.uk/resources/cc-fraud-data/fraudTrain.csv')\n",
    "\n",
    "print(data.head())\n"
   ]
  },
  {
   "cell_type": "code",
   "execution_count": null,
   "id": "e0743c72-ea78-4053-8f12-1b749d3d8ce4",
   "metadata": {},
   "outputs": [],
   "source": []
  }
 ],
 "metadata": {
  "kernelspec": {
   "display_name": "Python 3 (ipykernel)",
   "language": "python",
   "name": "python3"
  },
  "language_info": {
   "codemirror_mode": {
    "name": "ipython",
    "version": 3
   },
   "file_extension": ".py",
   "mimetype": "text/x-python",
   "name": "python",
   "nbconvert_exporter": "python",
   "pygments_lexer": "ipython3",
   "version": "3.12.1"
  }
 },
 "nbformat": 4,
 "nbformat_minor": 5
}
