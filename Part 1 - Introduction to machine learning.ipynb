{
 "cells": [
  {
   "cell_type": "code",
   "execution_count": null,
   "id": "provincial-interval",
   "metadata": {},
   "outputs": [],
   "source": [
    "# scikit learn for linear regression"
   ]
  },
  {
   "cell_type": "code",
   "execution_count": null,
   "id": "imposed-discussion",
   "metadata": {},
   "outputs": [],
   "source": [
    "import numpy as np\n",
    "import pandas as pd\n",
    "import sklearn\n",
    "\n",
    "df = pd.DataFrame()\n",
    "\n",
    "salaries = {\n",
    "        'Age': [20,35,38,42,43,54,55,58,60,62],\n",
    "        'Salary':[22000,30000,32000,45000,42000,48000,50000,52000,48000,70000]\n",
    "        }\n",
    "\n",
    "df = pd.DataFrame(salaries, columns = ['Age', 'Salary'])\n",
    "\n",
    "print (df)"
   ]
  },
  {
   "cell_type": "code",
   "execution_count": null,
   "id": "martial-myanmar",
   "metadata": {},
   "outputs": [],
   "source": [
    "X = np.array(df['Age']).reshape(10, 1)\n",
    "y = df['Salary']"
   ]
  },
  {
   "cell_type": "code",
   "execution_count": null,
   "id": "nonprofit-survivor",
   "metadata": {},
   "outputs": [],
   "source": [
    "print(X)\n",
    "print(y)"
   ]
  },
  {
   "cell_type": "code",
   "execution_count": null,
   "id": "binary-grocery",
   "metadata": {},
   "outputs": [],
   "source": [
    "from sklearn.linear_model import LinearRegression \n",
    "model = LinearRegression()\n",
    "model.fit(X, y)"
   ]
  },
  {
   "cell_type": "code",
   "execution_count": null,
   "id": "economic-account",
   "metadata": {},
   "outputs": [],
   "source": [
    "coef = model.coef_\n",
    "intercept = model.intercept_\n",
    "print('coef= ', coef)\n",
    "print('intercept= ', intercept)\n",
    "\n",
    "# What does coef represent in terms of y = mx + c?\n",
    "# Why is there only one value in the coef list?\n",
    "# What do we need in order to have more values in coef list?"
   ]
  },
  {
   "cell_type": "code",
   "execution_count": null,
   "id": "double-theory",
   "metadata": {},
   "outputs": [],
   "source": [
    "# Calculating the mean squared error\n",
    "'''\n",
    "Your turn: find the sklearn documentation in means squared error, read it and implement it here\n",
    "'''"
   ]
  },
  {
   "cell_type": "code",
   "execution_count": null,
   "id": "fatty-surge",
   "metadata": {},
   "outputs": [],
   "source": []
  },
  {
   "cell_type": "code",
   "execution_count": null,
   "id": "covered-giving",
   "metadata": {},
   "outputs": [],
   "source": [
    "# Graph for predictions"
   ]
  },
  {
   "cell_type": "code",
   "execution_count": null,
   "id": "fundamental-sister",
   "metadata": {},
   "outputs": [],
   "source": [
    "y = model.predict(X)\n",
    "\n",
    "import matplotlib.pyplot as plt\n",
    "plt.scatter(X,y,color='blue')\n",
    "plt.plot(X,y,color='red')\n",
    "plt.xlabel('Age')\n",
    "plt.ylabel('Salary')\n",
    "plt.show()"
   ]
  },
  {
   "cell_type": "code",
   "execution_count": null,
   "id": "behind-battle",
   "metadata": {},
   "outputs": [],
   "source": [
    "# Making new predictions\n",
    "model.predict(np.array(70).reshape(1, 1))\n",
    "\n",
    "# Create a prediction for a 25 year old"
   ]
  },
  {
   "cell_type": "code",
   "execution_count": null,
   "id": "defined-peeing",
   "metadata": {},
   "outputs": [],
   "source": [
    "'''\n",
    "What's another interesting feature (column) that we could introduce? Add it to the dataframe, train a model, \n",
    "and generate new predictions. \n",
    "\n",
    "We should see an increase in the number of coefficient values that we get. How many y-intercepts would we expect to have?\n",
    "Use the sklearn documentation on linear regression to take a look at this.\n",
    "\n",
    "Bonus+: with an extra feature is there a way we could still plot a line of best fit?\n",
    "'''"
   ]
  },
  {
   "cell_type": "code",
   "execution_count": null,
   "id": "technical-jones",
   "metadata": {},
   "outputs": [],
   "source": []
  },
  {
   "cell_type": "code",
   "execution_count": null,
   "id": "proprietary-bridges",
   "metadata": {},
   "outputs": [],
   "source": [
    "'''\n",
    "Practise:\n",
    "- Clean the dataframe below\n",
    "- Apply linear regression to find the line of best fit based on credit rating - probability of timely mortgage repayments\n",
    "- Output the coefficient and the y-intercept of the line\n",
    "- Use the coefficients and y-intercept to make a new prediction\n",
    "- Plot out the line of best fit\n",
    "- Use sklearn to generate a new prediction\n",
    "Bonus: have a read of the documentation to see what hyperparameters you can change to improve your model\n",
    "(the data is so small that there won't be much chance for optimisation but it is important to get familiar with \n",
    "the documentation and hyperparameters)\n",
    "'''"
   ]
  },
  {
   "cell_type": "code",
   "execution_count": null,
   "id": "applied-yugoslavia",
   "metadata": {},
   "outputs": [],
   "source": []
  },
  {
   "cell_type": "code",
   "execution_count": null,
   "id": "smaller-force",
   "metadata": {},
   "outputs": [],
   "source": [
    "df = pd.DataFrame()\n",
    "\n",
    "payments = {\n",
    "        'Name': ['Joe Harris','Jessica Davies','Bob Marker','Zoe Elps', 'Bill Harris','Emma Hale','Frank Fogel', 'Joan Hersch'],\n",
    "        'Occupation':['Teacher','Engineer','Baker','Doctor','Astonaut','Actress','Accountant','Lawyer'],\n",
    "        'credit_rating':[500,700,480,800,530,np.nan,580,500],\n",
    "        'percentage_timely_lifetime_payments':[950,80,66,99,70,68,92,90]\n",
    "\n",
    "\n",
    "        }\n",
    "\n",
    "df = pd.DataFrame(payments, columns = ['Name', 'Occupation', 'credit_rating', 'percentage_timely_lifetime_payments'])\n",
    "df"
   ]
  },
  {
   "cell_type": "code",
   "execution_count": null,
   "id": "bored-virus",
   "metadata": {},
   "outputs": [],
   "source": [
    "'''\n",
    "- Practise - titanic dataset\n",
    "- Apply linear regression using to predict the persons fare based on their age.\n",
    "- Plot this line of best fit along with a scatter plot of the real data. How does our linear regression perform?\n",
    "- Could it have done better? How could we assess how effective age should be as a predictor of fare?\n",
    "\n",
    "'''"
   ]
  },
  {
   "cell_type": "code",
   "execution_count": null,
   "id": "recreational-publicity",
   "metadata": {},
   "outputs": [],
   "source": [
    "file_path = 'datasets/titanic.csv'"
   ]
  },
  {
   "cell_type": "code",
   "execution_count": null,
   "id": "mediterranean-nelson",
   "metadata": {},
   "outputs": [],
   "source": [
    "df = pd.read_csv(file_path)\n",
    "df.dropna(axis=0, inplace=True)\n",
    "df"
   ]
  },
  {
   "cell_type": "code",
   "execution_count": null,
   "id": "elder-senegal",
   "metadata": {},
   "outputs": [],
   "source": [
    "X = df[['Age','Pclass']]\n",
    "y = df['Fare']\n",
    "model = LinearRegression()\n",
    "model.fit(X, y)"
   ]
  },
  {
   "cell_type": "code",
   "execution_count": null,
   "id": "assigned-insertion",
   "metadata": {},
   "outputs": [],
   "source": [
    "coef = model.coef_\n",
    "intercept = model.intercept_\n",
    "print('coef= ', coef)\n",
    "print('intercept= ', intercept)"
   ]
  },
  {
   "cell_type": "code",
   "execution_count": null,
   "id": "fossil-terrace",
   "metadata": {},
   "outputs": [],
   "source": [
    "from sklearn.metrics import mean_squared_error\n",
    "yhat = model.predict(X)\n",
    "mean_squared_error(y, yhat)"
   ]
  },
  {
   "cell_type": "code",
   "execution_count": null,
   "id": "chief-preference",
   "metadata": {},
   "outputs": [],
   "source": [
    "model.predict(np.array([70,2]).reshape(1, 2))"
   ]
  },
  {
   "cell_type": "code",
   "execution_count": null,
   "id": "general-stress",
   "metadata": {},
   "outputs": [],
   "source": [
    "'''\n",
    "If there's time:\n",
    "\n",
    "- Select two features that you hypothesise will be the best predictors of house prices\n",
    "- Clean these features\n",
    "- Apply a linear regression model to the house prices data, outputting the MSE\n",
    "- Outside of this session, invite people you know who own a house to provide information on these two features and \n",
    "predict the value of their house for them\n",
    "- Bonus: have a think - could a more sophisticated version of this tool be valuable for property companies in your area?\n",
    "'''"
   ]
  },
  {
   "cell_type": "code",
   "execution_count": null,
   "id": "comfortable-remedy",
   "metadata": {},
   "outputs": [],
   "source": [
    "file_path = 'datasets/house_prices.csv'"
   ]
  },
  {
   "cell_type": "code",
   "execution_count": null,
   "id": "competent-preparation",
   "metadata": {},
   "outputs": [],
   "source": []
  },
  {
   "cell_type": "markdown",
   "id": "amber-acting",
   "metadata": {},
   "source": [
    "***"
   ]
  },
  {
   "cell_type": "code",
   "execution_count": null,
   "id": "loving-issue",
   "metadata": {},
   "outputs": [],
   "source": [
    "# Matrix operations with numpy"
   ]
  },
  {
   "cell_type": "code",
   "execution_count": null,
   "id": "advance-yugoslavia",
   "metadata": {},
   "outputs": [],
   "source": [
    "#Creating a 3x3 matrix\n",
    "matrix = np.arange(2, 11).reshape(3,3)\n",
    "print(matrix)"
   ]
  },
  {
   "cell_type": "code",
   "execution_count": null,
   "id": "naughty-protection",
   "metadata": {},
   "outputs": [],
   "source": [
    "#scalar multiplied by a matrix\n",
    "3 * matrix"
   ]
  },
  {
   "cell_type": "code",
   "execution_count": null,
   "id": "distant-clearance",
   "metadata": {},
   "outputs": [],
   "source": [
    "#Creating a 3x1 vector\n",
    "array = np.arange(2,5)\n",
    "print(array)"
   ]
  },
  {
   "cell_type": "code",
   "execution_count": null,
   "id": "falling-auditor",
   "metadata": {},
   "outputs": [],
   "source": [
    "# Creating a dot product\n",
    "#Before running this code, what will the resulting shape be? How can you print this?\n",
    "np.dot(matrix,array)"
   ]
  },
  {
   "cell_type": "code",
   "execution_count": null,
   "id": "south-might",
   "metadata": {},
   "outputs": [],
   "source": [
    "'''\n",
    "Do the following by hand, then with code\n",
    "Create a 4x4 matrix\n",
    "- multiply it by 10\n",
    "- subtract 3\n",
    "\n",
    "- add another 4x4 matrix to the original matrix\n",
    "- multiply it by a suitably shaped vector\n",
    "\n",
    "'''"
   ]
  },
  {
   "cell_type": "code",
   "execution_count": null,
   "id": "detailed-pharmaceutical",
   "metadata": {},
   "outputs": [],
   "source": []
  },
  {
   "cell_type": "markdown",
   "id": "broadband-guitar",
   "metadata": {},
   "source": [
    "***"
   ]
  }
 ],
 "metadata": {
  "kernelspec": {
   "display_name": "Python 3",
   "language": "python",
   "name": "python3"
  },
  "language_info": {
   "codemirror_mode": {
    "name": "ipython",
    "version": 3
   },
   "file_extension": ".py",
   "mimetype": "text/x-python",
   "name": "python",
   "nbconvert_exporter": "python",
   "pygments_lexer": "ipython3",
   "version": "3.7.9"
  }
 },
 "nbformat": 4,
 "nbformat_minor": 5
}
