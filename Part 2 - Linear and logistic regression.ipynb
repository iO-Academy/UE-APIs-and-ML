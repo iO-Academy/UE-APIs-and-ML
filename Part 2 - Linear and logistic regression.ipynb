{
 "cells": [
  {
   "cell_type": "markdown",
   "id": "gothic-gnome",
   "metadata": {},
   "source": [
    "### Linear regression\n",
    "Revision:\n",
    "\n",
    "- Selecting dependent/independent variables\n",
    "- Training a linear regression model\n",
    "- Outputting the loss\n",
    "- Outputting coefficients\n",
    "- Generating new predictions\n",
    "- Using linear regression model to impute missing values"
   ]
  },
  {
   "cell_type": "code",
   "execution_count": null,
   "id": "stainless-obligation",
   "metadata": {},
   "outputs": [],
   "source": [
    "# Load your cleaned version of the titanic dataset\n",
    "# (if you don't already have a saved copy, do some basic cleaning and save a copy now)\n",
    "import pandas as pd\n",
    "df = pd.read_csv('datasets/titanic.csv')\n",
    "df.Fare.fillna(df.Fare.median(), inplace=True)\n",
    "X = np.array(df.Fare).reshape(-1,1)#(1, 2)\n",
    "y = df.Survived"
   ]
  },
  {
   "cell_type": "code",
   "execution_count": null,
   "id": "residential-chuck",
   "metadata": {},
   "outputs": [],
   "source": []
  },
  {
   "cell_type": "code",
   "execution_count": 1,
   "id": "dirty-bundle",
   "metadata": {},
   "outputs": [],
   "source": [
    "# Select age as your dependent variable, and select any other variables that you'd like as your independent variable"
   ]
  },
  {
   "cell_type": "code",
   "execution_count": null,
   "id": "alone-focus",
   "metadata": {},
   "outputs": [],
   "source": []
  },
  {
   "cell_type": "code",
   "execution_count": null,
   "id": "strange-franklin",
   "metadata": {},
   "outputs": [],
   "source": [
    "# Create a linear regression model to train on this data "
   ]
  },
  {
   "cell_type": "code",
   "execution_count": null,
   "id": "after-malawi",
   "metadata": {},
   "outputs": [],
   "source": []
  },
  {
   "cell_type": "code",
   "execution_count": null,
   "id": "variable-stereo",
   "metadata": {},
   "outputs": [],
   "source": [
    "# Output the loss of the model"
   ]
  },
  {
   "cell_type": "code",
   "execution_count": null,
   "id": "approximate-people",
   "metadata": {},
   "outputs": [],
   "source": []
  },
  {
   "cell_type": "code",
   "execution_count": null,
   "id": "prompt-professional",
   "metadata": {},
   "outputs": [],
   "source": [
    "# Output the coefficient weights to see which features seem to be having the largest effect on the dependent variable\n",
    "#(according to the model)"
   ]
  },
  {
   "cell_type": "code",
   "execution_count": null,
   "id": "metropolitan-radical",
   "metadata": {},
   "outputs": [],
   "source": []
  },
  {
   "cell_type": "code",
   "execution_count": null,
   "id": "peaceful-abuse",
   "metadata": {},
   "outputs": [],
   "source": [
    "# Create a new fake datapoint and generate a prediction from it"
   ]
  },
  {
   "cell_type": "code",
   "execution_count": null,
   "id": "disturbed-offering",
   "metadata": {},
   "outputs": [],
   "source": []
  },
  {
   "cell_type": "code",
   "execution_count": null,
   "id": "controlling-custom",
   "metadata": {},
   "outputs": [],
   "source": [
    "# Consider how this technique could be used for imputing missing values more accurately than using the median value\n",
    "# in some cases"
   ]
  },
  {
   "cell_type": "code",
   "execution_count": null,
   "id": "informed-diesel",
   "metadata": {},
   "outputs": [],
   "source": [
    "# Use a linear regression model to impute values for any of the continuous variables in the data in the previous uncleaned dataset"
   ]
  },
  {
   "cell_type": "code",
   "execution_count": null,
   "id": "animated-cisco",
   "metadata": {},
   "outputs": [],
   "source": []
  },
  {
   "cell_type": "markdown",
   "id": "suffering-olympus",
   "metadata": {},
   "source": [
    "***"
   ]
  },
  {
   "cell_type": "markdown",
   "id": "alternative-truck",
   "metadata": {},
   "source": [
    "### Logistic regression\n",
    "- A model to make categorical predictions (either binary or multi-class)"
   ]
  },
  {
   "cell_type": "code",
   "execution_count": null,
   "id": "related-maryland",
   "metadata": {},
   "outputs": [],
   "source": [
    "# This time select survived (a categorical feature) as the dependent variable using logistic regression"
   ]
  },
  {
   "cell_type": "markdown",
   "id": "aggregate-bachelor",
   "metadata": {},
   "source": [
    "https://scikit-learn.org/stable/modules/generated/sklearn.linear_model.LogisticRegression.html"
   ]
  },
  {
   "cell_type": "code",
   "execution_count": null,
   "id": "direct-occurrence",
   "metadata": {},
   "outputs": [],
   "source": []
  },
  {
   "cell_type": "code",
   "execution_count": null,
   "id": "subjective-giving",
   "metadata": {},
   "outputs": [],
   "source": [
    "# Output the loss of the model (will need research)"
   ]
  },
  {
   "cell_type": "code",
   "execution_count": null,
   "id": "sunrise-likelihood",
   "metadata": {},
   "outputs": [],
   "source": []
  },
  {
   "cell_type": "code",
   "execution_count": null,
   "id": "opposite-mechanics",
   "metadata": {},
   "outputs": [],
   "source": [
    "# Output the coefficients of the model (the same as in linear regression)"
   ]
  },
  {
   "cell_type": "code",
   "execution_count": null,
   "id": "acceptable-compiler",
   "metadata": {},
   "outputs": [],
   "source": []
  },
  {
   "cell_type": "code",
   "execution_count": null,
   "id": "posted-sacramento",
   "metadata": {},
   "outputs": [],
   "source": [
    "# Create a new datapoint and output a prediction"
   ]
  },
  {
   "cell_type": "code",
   "execution_count": null,
   "id": "starting-twenty",
   "metadata": {},
   "outputs": [],
   "source": []
  },
  {
   "cell_type": "markdown",
   "id": "thrown-display",
   "metadata": {},
   "source": [
    "***"
   ]
  },
  {
   "cell_type": "markdown",
   "id": "fatal-peripheral",
   "metadata": {},
   "source": [
    "Accuracy - https://scikit-learn.org/stable/modules/generated/sklearn.metrics.accuracy_score.html"
   ]
  },
  {
   "cell_type": "code",
   "execution_count": null,
   "id": "intimate-gentleman",
   "metadata": {},
   "outputs": [],
   "source": [
    "# Use your previous model, and the documentation above to output the accuracy score for your model"
   ]
  },
  {
   "cell_type": "code",
   "execution_count": null,
   "id": "monthly-amazon",
   "metadata": {},
   "outputs": [],
   "source": []
  },
  {
   "cell_type": "code",
   "execution_count": null,
   "id": "selective-challenge",
   "metadata": {},
   "outputs": [],
   "source": []
  },
  {
   "cell_type": "code",
   "execution_count": null,
   "id": "fresh-female",
   "metadata": {},
   "outputs": [],
   "source": []
  },
  {
   "cell_type": "markdown",
   "id": "coastal-waterproof",
   "metadata": {},
   "source": [
    "***"
   ]
  }
 ],
 "metadata": {
  "kernelspec": {
   "display_name": "Python 3",
   "language": "python",
   "name": "python3"
  },
  "language_info": {
   "codemirror_mode": {
    "name": "ipython",
    "version": 3
   },
   "file_extension": ".py",
   "mimetype": "text/x-python",
   "name": "python",
   "nbconvert_exporter": "python",
   "pygments_lexer": "ipython3",
   "version": "3.7.9"
  }
 },
 "nbformat": 4,
 "nbformat_minor": 5
}
